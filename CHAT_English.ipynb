{
 "cells": [
  {
   "cell_type": "code",
   "execution_count": 1,
   "id": "4d4b729f",
   "metadata": {},
   "outputs": [
    {
     "name": "stderr",
     "output_type": "stream",
     "text": [
      "c:\\Users\\Utkarsh\\AppData\\Local\\Programs\\Python\\Python310\\lib\\site-packages\\tqdm\\auto.py:21: TqdmWarning: IProgress not found. Please update jupyter and ipywidgets. See https://ipywidgets.readthedocs.io/en/stable/user_install.html\n",
      "  from .autonotebook import tqdm as notebook_tqdm\n"
     ]
    }
   ],
   "source": [
    "import os\n",
    "import torch\n",
    "import joblib\n",
    "import pandas as pd\n",
    "from transformers import DistilBertTokenizerFast\n",
    "import torch.nn as nn\n",
    "from transformers import DistilBertModel, DistilBertTokenizerFast, get_linear_schedule_with_warmup\n",
    "from datasets import Dataset\n",
    "from tqdm import tqdm\n"
   ]
  },
  {
   "cell_type": "code",
   "execution_count": 2,
   "id": "aab4c020",
   "metadata": {},
   "outputs": [],
   "source": [
    "\n",
    "# ─── 1) Define your model class (identical to training) ──────────────────\n",
    "class ChatModerationModel(nn.Module):\n",
    "    def __init__(self, num_labels, num_statuses):\n",
    "        super().__init__()\n",
    "        self.bert = DistilBertModel.from_pretrained(\"distilbert-base-uncased\")\n",
    "        \n",
    "        # Freeze first 3 transformer layers\n",
    "        for layer in self.bert.transformer.layer[:3]:\n",
    "            for param in layer.parameters():\n",
    "                param.requires_grad = False\n",
    "                \n",
    "        self.dropout = nn.Dropout(0.6)  # Increased dropout\n",
    "        self.label_head = nn.Sequential(\n",
    "            nn.Linear(self.bert.config.hidden_size, 256),\n",
    "            nn.ReLU(),\n",
    "            nn.Dropout(0.4),  # Additional dropout\n",
    "            nn.Linear(256, num_labels)\n",
    "        )\n",
    "        self.status_head = nn.Sequential(\n",
    "            nn.Linear(self.bert.config.hidden_size, 256),\n",
    "            nn.ReLU(),\n",
    "            nn.Dropout(0.4),  # Additional dropout\n",
    "            nn.Linear(256, num_statuses)\n",
    "        )\n",
    "\n",
    "    def forward(self, input_ids, attention_mask):\n",
    "        out = self.bert(input_ids=input_ids, attention_mask=attention_mask)\n",
    "        pooled = self.dropout(out.last_hidden_state[:, 0])\n",
    "        return self.label_head(pooled), self.status_head(pooled)\n"
   ]
  },
  {
   "cell_type": "code",
   "execution_count": 3,
   "id": "8e16388c",
   "metadata": {},
   "outputs": [],
   "source": [
    "\n",
    "# ─── 2) Load tokenizer and encoders ───────────────────────────────────────\n",
    "model_dir = r\"U:\\N\\save\"\n",
    "\n",
    "tokenizer  = DistilBertTokenizerFast.from_pretrained(model_dir)\n",
    "label_enc  = joblib.load(os.path.join(model_dir, \"label_encoder.pkl\"))\n",
    "status_enc = joblib.load(os.path.join(model_dir, \"status_encoder.pkl\"))\n",
    "\n",
    "# Reconstruct the status_map exactly as in training\n",
    "status_map = {0: 'accepted', 1: 'accepted', 2: 'accepted',\n",
    "              3: 'pending',  4: 'pending',\n",
    "              5: 'blocked',  6: 'blocked', 7: 'blocked'}\n"
   ]
  },
  {
   "cell_type": "code",
   "execution_count": 4,
   "id": "0609143d",
   "metadata": {},
   "outputs": [
    {
     "data": {
      "text/plain": [
       "ChatModerationModel(\n",
       "  (bert): DistilBertModel(\n",
       "    (embeddings): Embeddings(\n",
       "      (word_embeddings): Embedding(30522, 768, padding_idx=0)\n",
       "      (position_embeddings): Embedding(512, 768)\n",
       "      (LayerNorm): LayerNorm((768,), eps=1e-12, elementwise_affine=True)\n",
       "      (dropout): Dropout(p=0.1, inplace=False)\n",
       "    )\n",
       "    (transformer): Transformer(\n",
       "      (layer): ModuleList(\n",
       "        (0-5): 6 x TransformerBlock(\n",
       "          (attention): DistilBertSdpaAttention(\n",
       "            (dropout): Dropout(p=0.1, inplace=False)\n",
       "            (q_lin): Linear(in_features=768, out_features=768, bias=True)\n",
       "            (k_lin): Linear(in_features=768, out_features=768, bias=True)\n",
       "            (v_lin): Linear(in_features=768, out_features=768, bias=True)\n",
       "            (out_lin): Linear(in_features=768, out_features=768, bias=True)\n",
       "          )\n",
       "          (sa_layer_norm): LayerNorm((768,), eps=1e-12, elementwise_affine=True)\n",
       "          (ffn): FFN(\n",
       "            (dropout): Dropout(p=0.1, inplace=False)\n",
       "            (lin1): Linear(in_features=768, out_features=3072, bias=True)\n",
       "            (lin2): Linear(in_features=3072, out_features=768, bias=True)\n",
       "            (activation): GELUActivation()\n",
       "          )\n",
       "          (output_layer_norm): LayerNorm((768,), eps=1e-12, elementwise_affine=True)\n",
       "        )\n",
       "      )\n",
       "    )\n",
       "  )\n",
       "  (dropout): Dropout(p=0.6, inplace=False)\n",
       "  (label_head): Sequential(\n",
       "    (0): Linear(in_features=768, out_features=256, bias=True)\n",
       "    (1): ReLU()\n",
       "    (2): Dropout(p=0.4, inplace=False)\n",
       "    (3): Linear(in_features=256, out_features=20, bias=True)\n",
       "  )\n",
       "  (status_head): Sequential(\n",
       "    (0): Linear(in_features=768, out_features=256, bias=True)\n",
       "    (1): ReLU()\n",
       "    (2): Dropout(p=0.4, inplace=False)\n",
       "    (3): Linear(in_features=256, out_features=8, bias=True)\n",
       "  )\n",
       ")"
      ]
     },
     "execution_count": 4,
     "metadata": {},
     "output_type": "execute_result"
    }
   ],
   "source": [
    "\n",
    "# ─── 3) Instantiate model and load weights ───────────────────────────────\n",
    "device = torch.device(\"cuda\" if torch.cuda.is_available() else \"cpu\")\n",
    "\n",
    "model = ChatModerationModel(\n",
    "    num_labels   = len(label_enc.classes_),\n",
    "    num_statuses = len(status_enc.classes_)\n",
    ").to(device)\n",
    "\n",
    "model.load_state_dict(torch.load(os.path.join(model_dir, \"model_state.pt\"), map_location=device))\n",
    "model.eval()\n"
   ]
  },
  {
   "cell_type": "code",
   "execution_count": 5,
   "id": "1aab1640",
   "metadata": {},
   "outputs": [],
   "source": [
    "\n",
    "# ─── 4) Prediction helper ────────────────────────────────────────────────\n",
    "def predict(text: str):\n",
    "    inputs = tokenizer(\n",
    "        text,\n",
    "        return_tensors=\"pt\",\n",
    "        truncation=True, padding=\"max_length\", max_length=128\n",
    "    ).to(device)\n",
    "\n",
    "    with torch.no_grad():\n",
    "        logits_label, logits_status = model(**inputs)\n",
    "\n",
    "    lbl_idx = logits_label.argmax(dim=1).item()\n",
    "    stt_idx = logits_status.argmax(dim=1).item()\n",
    "\n",
    "    print(f\"Text: {text!r}\")\n",
    "    print(f\"→ Label:    {label_enc.inverse_transform([lbl_idx])[0]}\")\n",
    "    print(f\"→ Status:   {status_enc.inverse_transform([stt_idx])[0]}\")\n",
    "    print(f\"→ Decision: {status_map[stt_idx]}\")\n",
    "\n",
    "# ─── 5) Try it out! ───────────────────────────────────────────────────────\n",
    "\n"
   ]
  },
  {
   "cell_type": "code",
   "execution_count": null,
   "id": "00517488",
   "metadata": {},
   "outputs": [
    {
     "name": "stdout",
     "output_type": "stream",
     "text": [
      "Text: 'OKAY'\n",
      "→ Label:    Nothing Wrong\n",
      "→ Status:   0\n",
      "→ Decision: accepted\n"
     ]
    }
   ],
   "source": [
    "predict(\"\")\n",
    "\n"
   ]
  }
 ],
 "metadata": {
  "kernelspec": {
   "display_name": "Python 3",
   "language": "python",
   "name": "python3"
  },
  "language_info": {
   "codemirror_mode": {
    "name": "ipython",
    "version": 3
   },
   "file_extension": ".py",
   "mimetype": "text/x-python",
   "name": "python",
   "nbconvert_exporter": "python",
   "pygments_lexer": "ipython3",
   "version": "3.10.9"
  }
 },
 "nbformat": 4,
 "nbformat_minor": 5
}
