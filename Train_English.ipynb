{
 "cells": [
  {
   "cell_type": "code",
   "execution_count": 1,
   "id": "4909a304",
   "metadata": {},
   "outputs": [
    {
     "name": "stderr",
     "output_type": "stream",
     "text": [
      "c:\\Users\\Utkarsh\\AppData\\Local\\Programs\\Python\\Python310\\lib\\site-packages\\tqdm\\auto.py:21: TqdmWarning: IProgress not found. Please update jupyter and ipywidgets. See https://ipywidgets.readthedocs.io/en/stable/user_install.html\n",
      "  from .autonotebook import tqdm as notebook_tqdm\n"
     ]
    }
   ],
   "source": [
    "import os\n",
    "import re\n",
    "import pandas as pd\n",
    "import numpy as np\n",
    "import matplotlib.pyplot as plt\n",
    "\n",
    "from sklearn.model_selection import train_test_split\n",
    "from sklearn.metrics import classification_report, accuracy_score\n",
    "from sklearn.preprocessing import LabelEncoder\n",
    "\n",
    "import torch\n",
    "import torch.nn as nn\n",
    "import torch.cuda.amp as amp\n",
    "from torch.utils.data import DataLoader\n",
    "from torch.optim import AdamW\n",
    "\n",
    "from transformers import DistilBertModel, DistilBertTokenizerFast, get_linear_schedule_with_warmup\n",
    "from datasets import Dataset\n",
    "from tqdm import tqdm"
   ]
  },
  {
   "cell_type": "code",
   "execution_count": 2,
   "id": "a54d2578",
   "metadata": {},
   "outputs": [],
   "source": [
    "def load_and_prepare_data(csv_path):\n",
    "    df = pd.read_csv(csv_path)\n",
    "\n",
    "    status_map = {\n",
    "        0: 'accepted', 1: 'accepted', 2: 'accepted',\n",
    "        3: 'pending', 4: 'pending',\n",
    "        5: 'blocked', 6: 'blocked', 7: 'blocked'\n",
    "    }\n",
    "    df['Decision'] = df['Status'].map(status_map)\n",
    "    df = df.dropna(subset=['Text'])\n",
    "    df['Text'] = df['Text'].astype(str)\n",
    "\n",
    "    label_enc = LabelEncoder()\n",
    "    status_enc = LabelEncoder()\n",
    "    df['label_encoded'] = label_enc.fit_transform(df['Label'])\n",
    "    df['status_encoded'] = status_enc.fit_transform(df['Status'])\n",
    "\n",
    "    # Option 1: Simple stratification (just by label)\n",
    "    train_df, val_df = train_test_split(\n",
    "        df, \n",
    "        test_size=0.2, \n",
    "        random_state=42, \n",
    "        stratify=df['label_encoded']  # Stratify only by label\n",
    "    )\n",
    "    \n",
    "    # Option 2: If you really need to stratify by both, first check and remove rare combinations\n",
    "    # Get counts of each label-status combination\n",
    "    # combo_counts = df.groupby(['label_encoded', 'status_encoded']).size()\n",
    "    # rare_combos = combo_counts[combo_counts < 2].index\n",
    "    # Filter out rare combinations\n",
    "    # df = df[~df.set_index(['label_encoded', 'status_encoded']).index.isin(rare_combos)]\n",
    "    # Then stratify by both columns\n",
    "\n",
    "    return train_df, val_df, label_enc, status_enc, status_map"
   ]
  },
  {
   "cell_type": "code",
   "execution_count": 3,
   "id": "ffb12729",
   "metadata": {},
   "outputs": [],
   "source": [
    "def tokenize_dataset(df, tokenizer):\n",
    "    def preprocess(example):\n",
    "        tokens = tokenizer(\n",
    "            example['Text'], \n",
    "            truncation=True, \n",
    "            padding='max_length', \n",
    "            max_length=128,\n",
    "            return_tensors='pt'  # Return PyTorch tensors directly\n",
    "        )\n",
    "        tokens['labels'] = example['label_encoded']\n",
    "        tokens['statuses'] = example['status_encoded']\n",
    "        return tokens\n",
    "\n",
    "    dataset = Dataset.from_pandas(df)\n",
    "    dataset = dataset.map(preprocess, batched=True, batch_size=32)  # Batched processing for efficiency\n",
    "    dataset.set_format(type='torch', columns=['input_ids', 'attention_mask', 'labels', 'statuses'])\n",
    "    return dataset"
   ]
  },
  {
   "cell_type": "code",
   "execution_count": 4,
   "id": "59afe17d",
   "metadata": {},
   "outputs": [],
   "source": [
    "class ChatModerationModel(nn.Module):\n",
    "    def __init__(self, num_labels, num_statuses):\n",
    "        super().__init__()\n",
    "        self.bert = DistilBertModel.from_pretrained(\"distilbert-base-uncased\")\n",
    "        \n",
    "        # Freeze first 3 transformer layers\n",
    "        for layer in self.bert.transformer.layer[:3]:\n",
    "            for param in layer.parameters():\n",
    "                param.requires_grad = False\n",
    "                \n",
    "        self.dropout = nn.Dropout(0.6)  # Increased dropout\n",
    "        self.label_head = nn.Sequential(\n",
    "            nn.Linear(self.bert.config.hidden_size, 256),\n",
    "            nn.ReLU(),\n",
    "            nn.Dropout(0.4),  # Additional dropout\n",
    "            nn.Linear(256, num_labels)\n",
    "        )\n",
    "        self.status_head = nn.Sequential(\n",
    "            nn.Linear(self.bert.config.hidden_size, 256),\n",
    "            nn.ReLU(),\n",
    "            nn.Dropout(0.4),  # Additional dropout\n",
    "            nn.Linear(256, num_statuses)\n",
    "        )\n",
    "\n",
    "    def forward(self, input_ids, attention_mask):\n",
    "        out = self.bert(input_ids=input_ids, attention_mask=attention_mask)\n",
    "        pooled = self.dropout(out.last_hidden_state[:, 0])\n",
    "        return self.label_head(pooled), self.status_head(pooled)"
   ]
  },
  {
   "cell_type": "code",
   "execution_count": null,
   "id": "6a23c9d5",
   "metadata": {},
   "outputs": [],
   "source": [
    "\n",
    "def train_model(model, train_loader, val_loader, label_enc, status_enc, status_map, device, epochs=10):\n",
    "    # Reduced learning rate with more weight decay\n",
    "    optimizer = AdamW(model.parameters(), lr=1e-5, weight_decay=0.01)  \n",
    "    \n",
    "    # Gradient clipping\n",
    "    scheduler = get_linear_schedule_with_warmup(\n",
    "        optimizer, \n",
    "        num_warmup_steps=0.1 * len(train_loader), \n",
    "        num_training_steps=epochs * len(train_loader)\n",
    "    )\n",
    "    loss_fn = nn.CrossEntropyLoss()\n",
    "    scaler = amp.GradScaler()\n",
    "    best_loss = float('inf')\n",
    "    patience = 3  # Increased patience\n",
    "    counter = 0\n",
    "\n",
    "    history = {'train_loss': [], 'val_loss': [], 'val_label_acc': [], 'val_status_acc': []}\n",
    "\n",
    "    for epoch in range(epochs):\n",
    "        model.train()\n",
    "        train_loss = 0\n",
    "        for batch in tqdm(train_loader, desc=f\"Training Epoch {epoch+1}\"):\n",
    "            inputs = {k: v.to(device) for k, v in batch.items() if k not in ['labels', 'statuses']}\n",
    "            labels = batch['labels'].to(device)\n",
    "            statuses = batch['statuses'].to(device)\n",
    "\n",
    "            optimizer.zero_grad()\n",
    "            \n",
    "            with amp.autocast():\n",
    "                pred_labels, pred_statuses = model(**inputs)\n",
    "                loss = 0.7 * loss_fn(pred_labels, labels) + 0.3 * loss_fn(pred_statuses, statuses)  # Weighted loss\n",
    "\n",
    "            scaler.scale(loss).backward()\n",
    "            \n",
    "            # Gradient clipping\n",
    "            torch.nn.utils.clip_grad_norm_(model.parameters(), 1.0)\n",
    "            \n",
    "            scaler.step(optimizer)\n",
    "            scaler.update()\n",
    "            scheduler.step()\n",
    "\n",
    "            train_loss += loss.item()\n",
    "\n",
    "        history['train_loss'].append(train_loss / len(train_loader))\n",
    "\n",
    "        # Validation\n",
    "        model.eval()\n",
    "        val_loss, correct_labels, correct_statuses, total = 0, 0, 0, 0\n",
    "        with torch.no_grad():\n",
    "            for batch in val_loader:\n",
    "                inputs = {k: v.to(device) for k, v in batch.items() if k not in ['labels', 'statuses']}\n",
    "                labels = batch['labels'].to(device)\n",
    "                statuses = batch['statuses'].to(device)\n",
    "\n",
    "                logits_label, logits_status = model(**inputs)\n",
    "                val_loss += (0.7 * loss_fn(logits_label, labels) + 0.3 * loss_fn(logits_status, statuses)).item()\n",
    "\n",
    "                preds_label = logits_label.argmax(dim=1)\n",
    "                preds_status = logits_status.argmax(dim=1)\n",
    "                correct_labels += (preds_label == labels).sum().item()\n",
    "                correct_statuses += (preds_status == statuses).sum().item()\n",
    "                total += labels.size(0)\n",
    "\n",
    "        val_acc_l = correct_labels / total\n",
    "        val_acc_s = correct_statuses / total\n",
    "        val_avg_loss = val_loss / len(val_loader)\n",
    "\n",
    "        history['val_loss'].append(val_avg_loss)\n",
    "        history['val_label_acc'].append(val_acc_l)\n",
    "        history['val_status_acc'].append(val_acc_s)\n",
    "\n",
    "        print(f\"Epoch {epoch+1}: Val Loss = {val_avg_loss:.4f}, Label Acc = {val_acc_l:.2%}, Status Acc = {val_acc_s:.2%}\")\n",
    "\n",
    "        if val_avg_loss < best_loss:\n",
    "            torch.save(model.state_dict(), 'best_model.pt')\n",
    "            best_loss = val_avg_loss\n",
    "            counter = 0\n",
    "        else:\n",
    "            counter += 1\n",
    "            if counter >= patience:\n",
    "                print(\"Early stopping triggered.\")\n",
    "                break\n",
    "\n",
    "    return history"
   ]
  },
  {
   "cell_type": "code",
   "execution_count": 6,
   "id": "bb4fbe5e",
   "metadata": {},
   "outputs": [],
   "source": [
    "def plot_training_history(train_losses, val_losses, val_label_acc, val_status_acc):\n",
    "    \"\"\"\n",
    "    Plots training/validation loss and validation accuracies for label and status.\n",
    "    \"\"\"\n",
    "    # Loss curves\n",
    "    plt.figure()\n",
    "    plt.plot(train_losses, label='Train Loss')\n",
    "    plt.plot(val_losses,   label='Val Loss')\n",
    "    plt.title('Loss over Epochs')\n",
    "    plt.xlabel('Epoch')\n",
    "    plt.ylabel('Loss')\n",
    "    plt.legend()\n",
    "    plt.show()\n",
    "\n",
    "    # Accuracy curves\n",
    "    plt.figure()\n",
    "    plt.plot(val_label_acc, label='Val Label Acc')\n",
    "    plt.plot(val_status_acc, label='Val Status Acc')\n",
    "    plt.title('Validation Accuracies')\n",
    "    plt.xlabel('Epoch')\n",
    "    plt.ylabel('Accuracy')\n",
    "    plt.legend()\n",
    "    plt.show()\n"
   ]
  },
  {
   "cell_type": "code",
   "execution_count": 7,
   "id": "b3fcd0d4",
   "metadata": {},
   "outputs": [],
   "source": [
    "def predict(text, model, tokenizer, label_enc, status_enc, status_map, device):\n",
    "    model.eval()\n",
    "    inputs = tokenizer(text, return_tensors=\"pt\", padding='max_length', truncation=True, max_length=128).to(device)\n",
    "    with torch.no_grad():\n",
    "        logits_label, logits_status = model(**inputs)\n",
    "    label_pred = logits_label.argmax(dim=1).item()\n",
    "    status_pred = logits_status.argmax(dim=1).item()\n",
    "\n",
    "    print(f\"Text: {text}\")\n",
    "    print(f\"→ Label: {label_enc.inverse_transform([label_pred])[0]}\")\n",
    "    print(f\"→ Status: {status_enc.inverse_transform([status_pred])[0]}\")\n",
    "    print(f\"→ Decision: {status_map[status_pred]}\")\n"
   ]
  },
  {
   "cell_type": "code",
   "execution_count": 8,
   "id": "ef20324f",
   "metadata": {},
   "outputs": [
    {
     "name": "stderr",
     "output_type": "stream",
     "text": [
      "Map: 100%|██████████| 2404092/2404092 [05:59<00:00, 6683.07 examples/s]\n",
      "Map: 100%|██████████| 601023/601023 [01:25<00:00, 7045.59 examples/s]\n",
      "C:\\Users\\Utkarsh\\AppData\\Local\\Temp\\ipykernel_4540\\2547685972.py:12: FutureWarning: `torch.cuda.amp.GradScaler(args...)` is deprecated. Please use `torch.amp.GradScaler('cuda', args...)` instead.\n",
      "  scaler = amp.GradScaler()\n",
      "Training Epoch 1:   0%|          | 0/150256 [00:00<?, ?it/s]C:\\Users\\Utkarsh\\AppData\\Local\\Temp\\ipykernel_4540\\2547685972.py:29: FutureWarning: `torch.cuda.amp.autocast(args...)` is deprecated. Please use `torch.amp.autocast('cuda', args...)` instead.\n",
      "  with amp.autocast():\n",
      "Training Epoch 1: 100%|██████████| 150256/150256 [1:55:41<00:00, 21.65it/s] \n"
     ]
    },
    {
     "name": "stdout",
     "output_type": "stream",
     "text": [
      "Epoch 1: Val Loss = 0.6460, Label Acc = 78.99%, Status Acc = 79.92%\n"
     ]
    },
    {
     "name": "stderr",
     "output_type": "stream",
     "text": [
      "Training Epoch 2: 100%|██████████| 150256/150256 [1:47:54<00:00, 23.21it/s]\n"
     ]
    },
    {
     "name": "stdout",
     "output_type": "stream",
     "text": [
      "Epoch 2: Val Loss = 0.5602, Label Acc = 81.42%, Status Acc = 83.08%\n"
     ]
    },
    {
     "name": "stderr",
     "output_type": "stream",
     "text": [
      "Training Epoch 3: 100%|██████████| 150256/150256 [1:47:31<00:00, 23.29it/s]\n"
     ]
    },
    {
     "name": "stdout",
     "output_type": "stream",
     "text": [
      "Epoch 3: Val Loss = 0.5172, Label Acc = 82.60%, Status Acc = 84.58%\n"
     ]
    },
    {
     "name": "stderr",
     "output_type": "stream",
     "text": [
      "Training Epoch 4: 100%|██████████| 150256/150256 [1:48:00<00:00, 23.19it/s]\n"
     ]
    },
    {
     "name": "stdout",
     "output_type": "stream",
     "text": [
      "Epoch 4: Val Loss = 0.4924, Label Acc = 83.26%, Status Acc = 85.41%\n"
     ]
    },
    {
     "name": "stderr",
     "output_type": "stream",
     "text": [
      "Training Epoch 5: 100%|██████████| 150256/150256 [1:54:06<00:00, 21.95it/s]\n"
     ]
    },
    {
     "name": "stdout",
     "output_type": "stream",
     "text": [
      "Epoch 5: Val Loss = 0.4795, Label Acc = 83.63%, Status Acc = 85.95%\n"
     ]
    },
    {
     "name": "stderr",
     "output_type": "stream",
     "text": [
      "Training Epoch 6: 100%|██████████| 150256/150256 [1:52:42<00:00, 22.22it/s] \n"
     ]
    },
    {
     "name": "stdout",
     "output_type": "stream",
     "text": [
      "Epoch 6: Val Loss = 0.4717, Label Acc = 83.84%, Status Acc = 86.30%\n"
     ]
    },
    {
     "name": "stderr",
     "output_type": "stream",
     "text": [
      "Training Epoch 7: 100%|██████████| 150256/150256 [1:49:53<00:00, 22.79it/s]\n"
     ]
    },
    {
     "name": "stdout",
     "output_type": "stream",
     "text": [
      "Epoch 7: Val Loss = 0.4661, Label Acc = 83.99%, Status Acc = 86.54%\n"
     ]
    },
    {
     "name": "stderr",
     "output_type": "stream",
     "text": [
      "Training Epoch 8: 100%|██████████| 150256/150256 [1:58:00<00:00, 21.22it/s] \n"
     ]
    },
    {
     "name": "stdout",
     "output_type": "stream",
     "text": [
      "Epoch 8: Val Loss = 0.4589, Label Acc = 84.18%, Status Acc = 86.74%\n"
     ]
    },
    {
     "name": "stderr",
     "output_type": "stream",
     "text": [
      "Training Epoch 9: 100%|██████████| 150256/150256 [1:51:58<00:00, 22.37it/s] \n"
     ]
    },
    {
     "name": "stdout",
     "output_type": "stream",
     "text": [
      "Epoch 9: Val Loss = 0.4575, Label Acc = 84.21%, Status Acc = 86.92%\n"
     ]
    },
    {
     "name": "stderr",
     "output_type": "stream",
     "text": [
      "Training Epoch 10: 100%|██████████| 150256/150256 [1:51:53<00:00, 22.38it/s] \n"
     ]
    },
    {
     "name": "stdout",
     "output_type": "stream",
     "text": [
      "Epoch 10: Val Loss = 0.4565, Label Acc = 84.28%, Status Acc = 86.96%\n"
     ]
    },
    {
     "data": {
      "image/png": "[encoded data removed]",
      "text/plain": [
       "<Figure size 640x480 with 1 Axes>"
      ]
     },
     "metadata": {},
     "output_type": "display_data"
    },
    {
     "data": {
      "image/png": "[encoded data removed]",
      "text/plain": [
       "<Figure size 640x480 with 1 Axes>"
      ]
     },
     "metadata": {},
     "output_type": "display_data"
    },
    {
     "name": "stdout",
     "output_type": "stream",
     "text": [
      "Text: Stop this nonsense now!\n",
      "→ Label: Nothing Wrong\n",
      "→ Status: 0\n",
      "→ Decision: accepted\n"
     ]
    }
   ],
   "source": [
    "device = torch.device(\"cuda\" if torch.cuda.is_available() else \"cpu\")\n",
    "train_df, val_df, label_enc, status_enc, status_map = load_and_prepare_data(r\"U:\\N\\final1_csv.csv\")\n",
    "\n",
    "tokenizer = DistilBertTokenizerFast.from_pretrained(\"distilbert-base-uncased\")\n",
    "train_dataset = tokenize_dataset(train_df, tokenizer)\n",
    "val_dataset = tokenize_dataset(val_df, tokenizer)\n",
    "\n",
    "# Reduced batch size\n",
    "train_loader = DataLoader(train_dataset, batch_size=16, shuffle=True)\n",
    "val_loader = DataLoader(val_dataset, batch_size=16)\n",
    "\n",
    "model = ChatModerationModel(len(label_enc.classes_), len(status_enc.classes_)).to(device)\n",
    "history = train_model(model, train_loader, val_loader, label_enc, status_enc, status_map, device, epochs=10)\n",
    "\n",
    "# Plot loss and accuracy\n",
    "plot_training_history(history['train_loss'], history['val_loss'], history['val_label_acc'], history['val_status_acc'])\n",
    "\n",
    "# Predict example\n",
    "model.load_state_dict(torch.load('best_model.pt'))\n",
    "predict(\"Stop this nonsense now!\", model, tokenizer, label_enc, status_enc, status_map, device)\n"
   ]
  },
  {
   "cell_type": "code",
   "execution_count": null,
   "id": "9ad316cb",
   "metadata": {},
   "outputs": [
    {
     "name": "stdout",
     "output_type": "stream",
     "text": [
      "Text: f u\n",
      "→ Label: Vulgar\n",
      "→ Status: 6\n",
      "→ Decision: blocked\n"
     ]
    }
   ],
   "source": [
    "predict(\"\", model, tokenizer, label_enc, status_enc, status_map, device)"
   ]
  },
  {
   "cell_type": "code",
   "execution_count": 10,
   "id": "147656d9",
   "metadata": {},
   "outputs": [
    {
     "name": "stdout",
     "output_type": "stream",
     "text": [
      "✅ All saved to U:\\N\\save\n"
     ]
    }
   ],
   "source": [
    "import os, joblib\n",
    "\n",
    "save_dir = r\"U:\\N\\save\"\n",
    "os.makedirs(save_dir, exist_ok=True)\n",
    "\n",
    "# 1) Save state_dict (weights)\n",
    "torch.save(model.state_dict(), os.path.join(save_dir, \"model_state.pt\"))\n",
    "\n",
    "# 2) Save the tokenizer (this part was fine)\n",
    "tokenizer.save_pretrained(save_dir)\n",
    "\n",
    "# 3) Save your encoders\n",
    "joblib.dump(label_enc,  os.path.join(save_dir, \"label_encoder.pkl\"))\n",
    "joblib.dump(status_enc, os.path.join(save_dir, \"status_encoder.pkl\"))\n",
    "\n",
    "print(f\"✅ All saved to {save_dir}\")\n"
   ]
  }
 ],
 "metadata": {
  "kernelspec": {
   "display_name": "Python 3",
   "language": "python",
   "name": "python3"
  },
  "language_info": {
   "codemirror_mode": {
    "name": "ipython",
    "version": 3
   },
   "file_extension": ".py",
   "mimetype": "text/x-python",
   "name": "python",
   "nbconvert_exporter": "python",
   "pygments_lexer": "ipython3",
   "version": "3.10.9"
  }
 },
 "nbformat": 4,
 "nbformat_minor": 5
}
